{
 "cells": [
  {
   "cell_type": "code",
   "execution_count": 1,
   "metadata": {},
   "outputs": [
    {
     "name": "stdout",
     "output_type": "stream",
     "text": [
      "<class 'pandas.core.frame.DataFrame'>\n",
      "RangeIndex: 1692056 entries, 0 to 1692055\n",
      "Data columns (total 28 columns):\n",
      " #   Column                  Dtype         \n",
      "---  ------                  -----         \n",
      " 0   DR Number               int64         \n",
      " 1   Date Reported           datetime64[ns]\n",
      " 2   Date Occurred           datetime64[ns]\n",
      " 3   Time Occurred           datetime64[ns]\n",
      " 4   Area ID                 category      \n",
      " 5   Area Name               object        \n",
      " 6   Reporting District      uint16        \n",
      " 7   Crime Code              int64         \n",
      " 8   Crime Code Description  category      \n",
      " 9   MO Codes                object        \n",
      " 10  Victim Age              uint8         \n",
      " 11  Victim Sex              category      \n",
      " 12  Victim Descent          category      \n",
      " 13  Premise Code            uint16        \n",
      " 14  Premise Description     category      \n",
      " 15  Weapon Used Code        uint16        \n",
      " 16  Weapon Description      object        \n",
      " 17  Status Code             category      \n",
      " 18  Status Description      category      \n",
      " 19  Crime Code 1            uint16        \n",
      " 20  Crime Code 2            uint16        \n",
      " 21  Crime Code 3            uint16        \n",
      " 22  Crime Code 4            uint16        \n",
      " 23  Address                 object        \n",
      " 24  Cross Street            object        \n",
      " 25  Location                object        \n",
      " 26  Full_Time_Occurred      datetime64[ns]\n",
      " 27  Weekday                 category      \n",
      "dtypes: category(8), datetime64[ns](4), int64(2), object(6), uint16(7), uint8(1)\n",
      "memory usage: 519.7 MB\n"
     ]
    }
   ],
   "source": [
    "# предобработка данных\n",
    "# отключаем предупреждения Anaconda\n",
    "import warnings\n",
    "warnings.simplefilter('ignore')\n",
    "\n",
    "import pandas as pd\n",
    "import numpy as np\n",
    "\n",
    "from datetime import datetime\n",
    "\n",
    "dateparse = lambda x: pd.to_datetime(x)\n",
    "gl = pd.read_csv('Crime_Data_from_2010.csv',\n",
    "                                 parse_dates=['Date Reported','Date Occurred'],\n",
    "                                 date_parser=dateparse,\n",
    "                                 infer_datetime_format=True)\n",
    "\n",
    "gl_float = gl.select_dtypes(include=['float'])\n",
    "converted_float = gl_float.apply(pd.to_numeric,downcast='float')\n",
    "gl_int = gl.select_dtypes(include=['int'])\n",
    "converted_int = gl_int.apply(pd.to_numeric,downcast='unsigned')\n",
    "\n",
    "gl[converted_int.columns] = converted_int\n",
    "gl[converted_float.columns] = converted_float\n",
    "# заменяем исходные числовые столбцы\n",
    "# оптимизированными\n",
    "gl[converted_int.columns] = converted_int\n",
    "gl[converted_float.columns] = converted_float\n",
    "\n",
    "gl['Area ID']= gl['Area ID'].astype('uint16')\n",
    "gl['Victim Age'].fillna(value = 0, inplace=True)\n",
    "gl['Victim Age']= gl['Victim Age'].astype('uint8')\n",
    "\n",
    "\n",
    "categ = ['Premise Description','Status Code','Status Description','Victim Descent','Victim Sex'\n",
    "         ,'Crime Code Description','Area ID']\n",
    "for category in categ:\n",
    "    gl[category] = gl[category].astype('category')\n",
    "\n",
    "def good_time(x):\n",
    "    if x<10:\n",
    "        x*=100\n",
    "    return x\n",
    "gl['Time Occurred'] = gl['Time Occurred'].apply(good_time)\n",
    "\n",
    "gl['Full_Time_Occurred'] = pd.to_datetime(gl['Time Occurred'].astype(str)+gl['Date Occurred'].astype(str),\n",
    "                                          format='%H%M%Y-%m-%d')\n",
    "\n",
    "\n",
    "gl['Time Occurred'] = pd.to_datetime(gl['Time Occurred'], format='%H%M')\n",
    "\n",
    "codes = ['Crime Code 1','Crime Code 2','Crime Code 3','Crime Code 4','Premise Code','Weapon Used Code','Reporting District']\n",
    "for code in codes:\n",
    "    gl[code] = gl[code].fillna(value = 0).astype('uint16')\n",
    "\n",
    "gl['Weekday'] = gl['Date Occurred'].dt.strftime(\"%A\").astype('category')\n",
    "\n",
    "gl.info(memory_usage='deep')\n",
    "\n",
    "gl.to_csv('LA_crime_compressed.csv')"
   ]
  },
  {
   "cell_type": "markdown",
   "metadata": {},
   "source": [
    "сохраним типы данных"
   ]
  },
  {
   "cell_type": "code",
   "execution_count": 31,
   "metadata": {},
   "outputs": [],
   "source": [
    "import json\n",
    "res = gl.dtypes.to_frame('dtypes').reset_index()\n",
    "# first create dictionary\n",
    "d = res.set_index('index')['dtypes'].astype(str).to_dict()\n",
    "\n",
    "with open('types.json', 'w') as f:\n",
    "    json.dump(d, f)"
   ]
  },
  {
   "cell_type": "code",
   "execution_count": null,
   "metadata": {},
   "outputs": [],
   "source": []
  },
  {
   "cell_type": "code",
   "execution_count": null,
   "metadata": {},
   "outputs": [],
   "source": []
  },
  {
   "cell_type": "code",
   "execution_count": null,
   "metadata": {},
   "outputs": [],
   "source": []
  }
 ],
 "metadata": {
  "celltoolbar": "Edit Metadata",
  "kernelspec": {
   "display_name": "Python 3",
   "language": "python",
   "name": "python3"
  },
  "language_info": {
   "codemirror_mode": {
    "name": "ipython",
    "version": 3
   },
   "file_extension": ".py",
   "mimetype": "text/x-python",
   "name": "python",
   "nbconvert_exporter": "python",
   "pygments_lexer": "ipython3",
   "version": "3.8.6"
  }
 },
 "nbformat": 4,
 "nbformat_minor": 4
}
